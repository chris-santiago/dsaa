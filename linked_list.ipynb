{
 "cells": [
  {
   "cell_type": "code",
   "execution_count": 1,
   "id": "a99c2b66-c8a0-4475-b674-2d286fa205e5",
   "metadata": {},
   "outputs": [],
   "source": [
    "class Node:\n",
    "    def __init__(self, data, next_node=None):\n",
    "        self.data = data\n",
    "        self.next_node = next_node\n",
    "        \n",
    "    def __repr__(self):\n",
    "        return f\"Node({self.data}, {self.next_node})\""
   ]
  },
  {
   "cell_type": "code",
   "execution_count": 2,
   "id": "e0026392-56cd-4cf0-a31c-662c9131f4b0",
   "metadata": {},
   "outputs": [],
   "source": [
    "class LinkedList:\n",
    "    def __init__(self, init_node):\n",
    "        self.init_node = init_node\n",
    "        \n",
    "    def __repr__(self):\n",
    "        return f\"LinkedList({self.init_node})\"\n",
    "        \n",
    "    def read(self, index):\n",
    "        node = self.init_node\n",
    "        i = 0\n",
    "        while i < index:\n",
    "            node = node.next_node\n",
    "            i += 1\n",
    "            if node is None:\n",
    "                return None\n",
    "        return node.data\n",
    "    \n",
    "    def get_index(self, value):\n",
    "        node = self.init_node\n",
    "        i = 0\n",
    "        while node:\n",
    "            if node.data == value:\n",
    "                return i\n",
    "            node = node.next_node\n",
    "            i += 1\n",
    "        return None\n",
    "    \n",
    "    def insert(self, value, index):\n",
    "        new_node = Node(value)\n",
    "        if index == 0:\n",
    "            new_node.next_node = self.init_node\n",
    "            self.init_node = new_node\n",
    "            return self\n",
    "        node = self.init_node\n",
    "        i = 0\n",
    "        while i < (index-1):\n",
    "            node = node.next_node\n",
    "            i += 1\n",
    "        new_node.next_node = node.next_node\n",
    "        node.next_node = new_node\n",
    "        return self\n",
    "    \n",
    "    def delete(self, index):\n",
    "        if index == 0:\n",
    "            self.init_node = self.init_node.next_node\n",
    "            return self\n",
    "        node = self.init_node\n",
    "        i = 0\n",
    "        while i < (index-1):\n",
    "            node = node.next_node\n",
    "            i += 1\n",
    "        node.next_node = node.next_node.next_node\n",
    "        return self\n",
    "        "
   ]
  },
  {
   "cell_type": "code",
   "execution_count": 3,
   "id": "c728c0d1-f600-4623-b2aa-5234ea4d3f57",
   "metadata": {},
   "outputs": [],
   "source": [
    "n1 = Node('a')"
   ]
  },
  {
   "cell_type": "code",
   "execution_count": 4,
   "id": "2de1cbe6-763b-44da-a946-0663d6b1bcc8",
   "metadata": {},
   "outputs": [],
   "source": [
    "n2 = Node('b')\n",
    "n3 = Node('c')"
   ]
  },
  {
   "cell_type": "code",
   "execution_count": 5,
   "id": "a71a9950-a940-4927-b97e-27f7a5b4c819",
   "metadata": {},
   "outputs": [],
   "source": [
    "n1.next_node = n2\n",
    "n2.next_node = n3"
   ]
  },
  {
   "cell_type": "code",
   "execution_count": 6,
   "id": "07a488fd-e4ca-4398-bc58-ff415f6e7267",
   "metadata": {},
   "outputs": [
    {
     "data": {
      "text/plain": [
       "Node(a, Node(b, Node(c, None)))"
      ]
     },
     "execution_count": 6,
     "metadata": {},
     "output_type": "execute_result"
    }
   ],
   "source": [
    "n1"
   ]
  },
  {
   "cell_type": "code",
   "execution_count": 7,
   "id": "752f2301-4a86-4a50-94e4-f09c0e92c729",
   "metadata": {},
   "outputs": [
    {
     "data": {
      "text/plain": [
       "{'data': 'a', 'next_node': Node(b, Node(c, None))}"
      ]
     },
     "execution_count": 7,
     "metadata": {},
     "output_type": "execute_result"
    }
   ],
   "source": [
    "n1.__dict__"
   ]
  },
  {
   "cell_type": "code",
   "execution_count": 8,
   "id": "bbaabcb2-5c17-4e0e-90c5-3ecf0f1544c2",
   "metadata": {},
   "outputs": [],
   "source": [
    "l = LinkedList(n1)"
   ]
  },
  {
   "cell_type": "code",
   "execution_count": 9,
   "id": "8bf51632-5829-4755-b7bb-ff5acb471c09",
   "metadata": {},
   "outputs": [
    {
     "data": {
      "text/plain": [
       "'b'"
      ]
     },
     "execution_count": 9,
     "metadata": {},
     "output_type": "execute_result"
    }
   ],
   "source": [
    "l.read(1)"
   ]
  },
  {
   "cell_type": "code",
   "execution_count": 10,
   "id": "9007c2b2-e224-4415-b37d-b42064d50ad6",
   "metadata": {},
   "outputs": [
    {
     "data": {
      "text/plain": [
       "0"
      ]
     },
     "execution_count": 10,
     "metadata": {},
     "output_type": "execute_result"
    }
   ],
   "source": [
    "l.get_index('a')"
   ]
  },
  {
   "cell_type": "code",
   "execution_count": 11,
   "id": "c41e0905-0449-49de-97e7-897f89366268",
   "metadata": {},
   "outputs": [
    {
     "data": {
      "text/plain": [
       "LinkedList(Node(a, Node(b, Node(bb, Node(c, None)))))"
      ]
     },
     "execution_count": 11,
     "metadata": {},
     "output_type": "execute_result"
    }
   ],
   "source": [
    "l.insert('bb', 2)"
   ]
  },
  {
   "cell_type": "code",
   "execution_count": 12,
   "id": "fdcd9e4a-18f5-4144-9b67-c550b5cb836a",
   "metadata": {},
   "outputs": [
    {
     "data": {
      "text/plain": [
       "'bb'"
      ]
     },
     "execution_count": 12,
     "metadata": {},
     "output_type": "execute_result"
    }
   ],
   "source": [
    "l.read(2)"
   ]
  },
  {
   "cell_type": "code",
   "execution_count": 13,
   "id": "231f916a-84f2-40dc-b68e-acdc25a2a1c3",
   "metadata": {},
   "outputs": [
    {
     "data": {
      "text/plain": [
       "LinkedList(Node(a, Node(b, Node(c, None))))"
      ]
     },
     "execution_count": 13,
     "metadata": {},
     "output_type": "execute_result"
    }
   ],
   "source": [
    "l.delete(2)"
   ]
  },
  {
   "cell_type": "code",
   "execution_count": null,
   "id": "d6d1cb8a-c603-4c53-9fc7-a5521838cd8e",
   "metadata": {},
   "outputs": [],
   "source": []
  }
 ],
 "metadata": {
  "kernelspec": {
   "display_name": "Python 3 (ipykernel)",
   "language": "python",
   "name": "python3"
  },
  "language_info": {
   "codemirror_mode": {
    "name": "ipython",
    "version": 3
   },
   "file_extension": ".py",
   "mimetype": "text/x-python",
   "name": "python",
   "nbconvert_exporter": "python",
   "pygments_lexer": "ipython3",
   "version": "3.9.13"
  }
 },
 "nbformat": 4,
 "nbformat_minor": 5
}
