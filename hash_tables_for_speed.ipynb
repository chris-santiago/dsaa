{
 "cells": [
  {
   "cell_type": "code",
   "execution_count": 1,
   "id": "0bbda526-c94b-4681-814a-17f07c242c3d",
   "metadata": {},
   "outputs": [],
   "source": [
    "import random"
   ]
  },
  {
   "cell_type": "code",
   "execution_count": 2,
   "id": "5673fb41-980f-4d71-9cf0-541a6c6cfd16",
   "metadata": {},
   "outputs": [],
   "source": [
    "N = 1e5\n",
    "\n",
    "random.seed(43)"
   ]
  },
  {
   "cell_type": "code",
   "execution_count": 3,
   "id": "a1f0c7c1-cc2e-4b41-b5a3-283faf55e28a",
   "metadata": {},
   "outputs": [],
   "source": [
    "z = [random.randint(1, N) for _ in range(10_000)]\n",
    "x = random.randint(1, N)\n",
    "d = {k: True for k in z}\n",
    "s = set(z)"
   ]
  },
  {
   "cell_type": "markdown",
   "id": "ee5eb5c5-5b13-4d2f-8d9b-f9abf2108f65",
   "metadata": {},
   "source": [
    "## Searching a List"
   ]
  },
  {
   "cell_type": "code",
   "execution_count": 4,
   "id": "9b64a92e-e517-4577-9532-e87b117d8eee",
   "metadata": {},
   "outputs": [],
   "source": [
    "def search_list(l, x):\n",
    "    return x in l"
   ]
  },
  {
   "cell_type": "code",
   "execution_count": 5,
   "id": "7b180bd5-4b83-4808-b464-e5a6a994afc4",
   "metadata": {},
   "outputs": [
    {
     "name": "stdout",
     "output_type": "stream",
     "text": [
      "83.1 µs ± 1.76 µs per loop (mean ± std. dev. of 7 runs, 10,000 loops each)\n"
     ]
    }
   ],
   "source": [
    "%%timeit\n",
    "\n",
    "search_list(z, x)"
   ]
  },
  {
   "cell_type": "markdown",
   "id": "7b5420a0-c110-4bc2-96eb-578ab5b2a66b",
   "metadata": {},
   "source": [
    "## Searching a Dictionary"
   ]
  },
  {
   "cell_type": "code",
   "execution_count": 6,
   "id": "3667b8ba-ed0e-4f20-acf7-b0735e10ed98",
   "metadata": {},
   "outputs": [],
   "source": [
    "def search_dict(d, x):\n",
    "    return d.get(x, False)"
   ]
  },
  {
   "cell_type": "code",
   "execution_count": 7,
   "id": "6ff8799f-fc0c-4231-80ce-68f8ad7dc300",
   "metadata": {},
   "outputs": [
    {
     "name": "stdout",
     "output_type": "stream",
     "text": [
      "124 ns ± 2.58 ns per loop (mean ± std. dev. of 7 runs, 10,000,000 loops each)\n"
     ]
    }
   ],
   "source": [
    "%%timeit\n",
    "\n",
    "search_dict(d, x)"
   ]
  },
  {
   "cell_type": "markdown",
   "id": "587dd687-a236-4612-acae-4e0901905216",
   "metadata": {},
   "source": [
    "## Searching a Dictionary"
   ]
  },
  {
   "cell_type": "code",
   "execution_count": 9,
   "id": "f5e4d05b-4e9d-4fd3-8066-19b3f2f7436a",
   "metadata": {},
   "outputs": [],
   "source": [
    "def search_set(s, x):\n",
    "    return x in s"
   ]
  },
  {
   "cell_type": "code",
   "execution_count": 10,
   "id": "cc2243d6-76db-4822-9a65-476ac58f86f9",
   "metadata": {},
   "outputs": [
    {
     "name": "stdout",
     "output_type": "stream",
     "text": [
      "111 ns ± 2.15 ns per loop (mean ± std. dev. of 7 runs, 10,000,000 loops each)\n"
     ]
    }
   ],
   "source": [
    "%%timeit\n",
    "\n",
    "search_set(s, x)"
   ]
  }
 ],
 "metadata": {
  "kernelspec": {
   "display_name": "Python 3 (ipykernel)",
   "language": "python",
   "name": "python3"
  },
  "language_info": {
   "codemirror_mode": {
    "name": "ipython",
    "version": 3
   },
   "file_extension": ".py",
   "mimetype": "text/x-python",
   "name": "python",
   "nbconvert_exporter": "python",
   "pygments_lexer": "ipython3",
   "version": "3.9.13"
  }
 },
 "nbformat": 4,
 "nbformat_minor": 5
}
