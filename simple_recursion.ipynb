{
 "cells": [
  {
   "cell_type": "code",
   "execution_count": 1,
   "id": "29b9e3ba-1a72-4a1e-b9f6-f2371d119b8a",
   "metadata": {},
   "outputs": [],
   "source": [
    "import random"
   ]
  },
  {
   "cell_type": "code",
   "execution_count": 12,
   "id": "4cce9509-2868-43af-9d1b-27cac3020b3c",
   "metadata": {},
   "outputs": [],
   "source": [
    "UPPER = 1e5\n",
    "N = 1_000\n",
    "\n",
    "random.seed(43)"
   ]
  },
  {
   "cell_type": "code",
   "execution_count": 13,
   "id": "0978c3c4-ed21-4c9c-bd8c-dc874de7ed28",
   "metadata": {},
   "outputs": [],
   "source": [
    "z = [random.randint(1, N) for _ in range(N)]"
   ]
  },
  {
   "cell_type": "code",
   "execution_count": 14,
   "id": "a9a7c735-d2c0-493f-839c-f6e6d586d1a0",
   "metadata": {},
   "outputs": [
    {
     "name": "stdout",
     "output_type": "stream",
     "text": [
      "8.24 µs ± 71.3 ns per loop (mean ± std. dev. of 7 runs, 100,000 loops each)\n"
     ]
    }
   ],
   "source": [
    "%%timeit\n",
    "\n",
    "sum(z)"
   ]
  },
  {
   "cell_type": "code",
   "execution_count": 15,
   "id": "7d880649-6f35-42ce-bfda-cc90f3006e21",
   "metadata": {},
   "outputs": [],
   "source": [
    "def array_sum(x):\n",
    "    if len(x) == 1:\n",
    "        return x[0]\n",
    "    return x[0] + array_sum(x[1:])"
   ]
  },
  {
   "cell_type": "code",
   "execution_count": 18,
   "id": "fbf789c3-a327-4048-ba18-2c464fa33e55",
   "metadata": {},
   "outputs": [
    {
     "name": "stdout",
     "output_type": "stream",
     "text": [
      "1.55 ms ± 30.1 µs per loop (mean ± std. dev. of 7 runs, 1,000 loops each)\n"
     ]
    }
   ],
   "source": [
    "%%timeit\n",
    "\n",
    "array_sum(z)"
   ]
  },
  {
   "cell_type": "code",
   "execution_count": null,
   "id": "f26a16f9-a528-46c0-b1aa-8b9122751120",
   "metadata": {},
   "outputs": [],
   "source": []
  }
 ],
 "metadata": {
  "kernelspec": {
   "display_name": "Python 3 (ipykernel)",
   "language": "python",
   "name": "python3"
  },
  "language_info": {
   "codemirror_mode": {
    "name": "ipython",
    "version": 3
   },
   "file_extension": ".py",
   "mimetype": "text/x-python",
   "name": "python",
   "nbconvert_exporter": "python",
   "pygments_lexer": "ipython3",
   "version": "3.9.13"
  }
 },
 "nbformat": 4,
 "nbformat_minor": 5
}
